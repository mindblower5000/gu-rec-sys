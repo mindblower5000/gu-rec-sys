{
  "nbformat": 4,
  "nbformat_minor": 0,
  "metadata": {
    "kernelspec": {
      "display_name": "Python 3",
      "language": "python",
      "name": "python3"
    },
    "language_info": {
      "codemirror_mode": {
        "name": "ipython",
        "version": 3
      },
      "file_extension": ".py",
      "mimetype": "text/x-python",
      "name": "python",
      "nbconvert_exporter": "python",
      "pygments_lexer": "ipython3",
      "version": "3.7.6"
    },
    "colab": {
      "name": "hw2.ipynb",
      "provenance": [],
      "collapsed_sections": [],
      "toc_visible": true
    }
  },
  "cells": [
    {
      "cell_type": "markdown",
      "metadata": {
        "id": "voZ-1AU2IfQp",
        "colab_type": "text"
      },
      "source": [
        "HW 2 Мельчук А.Б."
      ]
    },
    {
      "cell_type": "code",
      "metadata": {
        "id": "1HifyiGgInd8",
        "colab_type": "code",
        "colab": {
          "base_uri": "https://localhost:8080/",
          "height": 238
        },
        "outputId": "d2b06797-eec3-4581-95f6-c5cdcd54a634"
      },
      "source": [
        "!pip install implicit"
      ],
      "execution_count": 2,
      "outputs": [
        {
          "output_type": "stream",
          "text": [
            "Collecting implicit\n",
            "\u001b[?25l  Downloading https://files.pythonhosted.org/packages/5a/d8/6b4f1374ffa2647b72ac76960c71b984c6f3238090359fb419d03827d87a/implicit-0.4.2.tar.gz (1.1MB)\n",
            "\r\u001b[K     |▎                               | 10kB 10.4MB/s eta 0:00:01\r\u001b[K     |▋                               | 20kB 1.7MB/s eta 0:00:01\r\u001b[K     |▉                               | 30kB 2.2MB/s eta 0:00:01\r\u001b[K     |█▏                              | 40kB 2.6MB/s eta 0:00:01\r\u001b[K     |█▌                              | 51kB 2.0MB/s eta 0:00:01\r\u001b[K     |█▊                              | 61kB 2.3MB/s eta 0:00:01\r\u001b[K     |██                              | 71kB 2.5MB/s eta 0:00:01\r\u001b[K     |██▍                             | 81kB 2.7MB/s eta 0:00:01\r\u001b[K     |██▋                             | 92kB 2.9MB/s eta 0:00:01\r\u001b[K     |███                             | 102kB 2.8MB/s eta 0:00:01\r\u001b[K     |███▎                            | 112kB 2.8MB/s eta 0:00:01\r\u001b[K     |███▌                            | 122kB 2.8MB/s eta 0:00:01\r\u001b[K     |███▉                            | 133kB 2.8MB/s eta 0:00:01\r\u001b[K     |████▏                           | 143kB 2.8MB/s eta 0:00:01\r\u001b[K     |████▍                           | 153kB 2.8MB/s eta 0:00:01\r\u001b[K     |████▊                           | 163kB 2.8MB/s eta 0:00:01\r\u001b[K     |█████                           | 174kB 2.8MB/s eta 0:00:01\r\u001b[K     |█████▎                          | 184kB 2.8MB/s eta 0:00:01\r\u001b[K     |█████▋                          | 194kB 2.8MB/s eta 0:00:01\r\u001b[K     |█████▉                          | 204kB 2.8MB/s eta 0:00:01\r\u001b[K     |██████▏                         | 215kB 2.8MB/s eta 0:00:01\r\u001b[K     |██████▌                         | 225kB 2.8MB/s eta 0:00:01\r\u001b[K     |██████▊                         | 235kB 2.8MB/s eta 0:00:01\r\u001b[K     |███████                         | 245kB 2.8MB/s eta 0:00:01\r\u001b[K     |███████▍                        | 256kB 2.8MB/s eta 0:00:01\r\u001b[K     |███████▋                        | 266kB 2.8MB/s eta 0:00:01\r\u001b[K     |████████                        | 276kB 2.8MB/s eta 0:00:01\r\u001b[K     |████████▎                       | 286kB 2.8MB/s eta 0:00:01\r\u001b[K     |████████▌                       | 296kB 2.8MB/s eta 0:00:01\r\u001b[K     |████████▉                       | 307kB 2.8MB/s eta 0:00:01\r\u001b[K     |█████████                       | 317kB 2.8MB/s eta 0:00:01\r\u001b[K     |█████████▍                      | 327kB 2.8MB/s eta 0:00:01\r\u001b[K     |█████████▊                      | 337kB 2.8MB/s eta 0:00:01\r\u001b[K     |██████████                      | 348kB 2.8MB/s eta 0:00:01\r\u001b[K     |██████████▎                     | 358kB 2.8MB/s eta 0:00:01\r\u001b[K     |██████████▋                     | 368kB 2.8MB/s eta 0:00:01\r\u001b[K     |██████████▉                     | 378kB 2.8MB/s eta 0:00:01\r\u001b[K     |███████████▏                    | 389kB 2.8MB/s eta 0:00:01\r\u001b[K     |███████████▌                    | 399kB 2.8MB/s eta 0:00:01\r\u001b[K     |███████████▊                    | 409kB 2.8MB/s eta 0:00:01\r\u001b[K     |████████████                    | 419kB 2.8MB/s eta 0:00:01\r\u001b[K     |████████████▍                   | 430kB 2.8MB/s eta 0:00:01\r\u001b[K     |████████████▋                   | 440kB 2.8MB/s eta 0:00:01\r\u001b[K     |█████████████                   | 450kB 2.8MB/s eta 0:00:01\r\u001b[K     |█████████████▏                  | 460kB 2.8MB/s eta 0:00:01\r\u001b[K     |█████████████▌                  | 471kB 2.8MB/s eta 0:00:01\r\u001b[K     |█████████████▉                  | 481kB 2.8MB/s eta 0:00:01\r\u001b[K     |██████████████                  | 491kB 2.8MB/s eta 0:00:01\r\u001b[K     |██████████████▍                 | 501kB 2.8MB/s eta 0:00:01\r\u001b[K     |██████████████▊                 | 512kB 2.8MB/s eta 0:00:01\r\u001b[K     |███████████████                 | 522kB 2.8MB/s eta 0:00:01\r\u001b[K     |███████████████▎                | 532kB 2.8MB/s eta 0:00:01\r\u001b[K     |███████████████▋                | 542kB 2.8MB/s eta 0:00:01\r\u001b[K     |███████████████▉                | 552kB 2.8MB/s eta 0:00:01\r\u001b[K     |████████████████▏               | 563kB 2.8MB/s eta 0:00:01\r\u001b[K     |████████████████▌               | 573kB 2.8MB/s eta 0:00:01\r\u001b[K     |████████████████▊               | 583kB 2.8MB/s eta 0:00:01\r\u001b[K     |█████████████████               | 593kB 2.8MB/s eta 0:00:01\r\u001b[K     |█████████████████▍              | 604kB 2.8MB/s eta 0:00:01\r\u001b[K     |█████████████████▋              | 614kB 2.8MB/s eta 0:00:01\r\u001b[K     |██████████████████              | 624kB 2.8MB/s eta 0:00:01\r\u001b[K     |██████████████████▏             | 634kB 2.8MB/s eta 0:00:01\r\u001b[K     |██████████████████▌             | 645kB 2.8MB/s eta 0:00:01\r\u001b[K     |██████████████████▉             | 655kB 2.8MB/s eta 0:00:01\r\u001b[K     |███████████████████             | 665kB 2.8MB/s eta 0:00:01\r\u001b[K     |███████████████████▍            | 675kB 2.8MB/s eta 0:00:01\r\u001b[K     |███████████████████▊            | 686kB 2.8MB/s eta 0:00:01\r\u001b[K     |████████████████████            | 696kB 2.8MB/s eta 0:00:01\r\u001b[K     |████████████████████▎           | 706kB 2.8MB/s eta 0:00:01\r\u001b[K     |████████████████████▋           | 716kB 2.8MB/s eta 0:00:01\r\u001b[K     |████████████████████▉           | 727kB 2.8MB/s eta 0:00:01\r\u001b[K     |█████████████████████▏          | 737kB 2.8MB/s eta 0:00:01\r\u001b[K     |█████████████████████▌          | 747kB 2.8MB/s eta 0:00:01\r\u001b[K     |█████████████████████▊          | 757kB 2.8MB/s eta 0:00:01\r\u001b[K     |██████████████████████          | 768kB 2.8MB/s eta 0:00:01\r\u001b[K     |██████████████████████▎         | 778kB 2.8MB/s eta 0:00:01\r\u001b[K     |██████████████████████▋         | 788kB 2.8MB/s eta 0:00:01\r\u001b[K     |███████████████████████         | 798kB 2.8MB/s eta 0:00:01\r\u001b[K     |███████████████████████▏        | 808kB 2.8MB/s eta 0:00:01\r\u001b[K     |███████████████████████▌        | 819kB 2.8MB/s eta 0:00:01\r\u001b[K     |███████████████████████▉        | 829kB 2.8MB/s eta 0:00:01\r\u001b[K     |████████████████████████        | 839kB 2.8MB/s eta 0:00:01\r\u001b[K     |████████████████████████▍       | 849kB 2.8MB/s eta 0:00:01\r\u001b[K     |████████████████████████▊       | 860kB 2.8MB/s eta 0:00:01\r\u001b[K     |█████████████████████████       | 870kB 2.8MB/s eta 0:00:01\r\u001b[K     |█████████████████████████▎      | 880kB 2.8MB/s eta 0:00:01\r\u001b[K     |█████████████████████████▋      | 890kB 2.8MB/s eta 0:00:01\r\u001b[K     |█████████████████████████▉      | 901kB 2.8MB/s eta 0:00:01\r\u001b[K     |██████████████████████████▏     | 911kB 2.8MB/s eta 0:00:01\r\u001b[K     |██████████████████████████▍     | 921kB 2.8MB/s eta 0:00:01\r\u001b[K     |██████████████████████████▊     | 931kB 2.8MB/s eta 0:00:01\r\u001b[K     |███████████████████████████     | 942kB 2.8MB/s eta 0:00:01\r\u001b[K     |███████████████████████████▎    | 952kB 2.8MB/s eta 0:00:01\r\u001b[K     |███████████████████████████▋    | 962kB 2.8MB/s eta 0:00:01\r\u001b[K     |████████████████████████████    | 972kB 2.8MB/s eta 0:00:01\r\u001b[K     |████████████████████████████▏   | 983kB 2.8MB/s eta 0:00:01\r\u001b[K     |████████████████████████████▌   | 993kB 2.8MB/s eta 0:00:01\r\u001b[K     |████████████████████████████▉   | 1.0MB 2.8MB/s eta 0:00:01\r\u001b[K     |█████████████████████████████   | 1.0MB 2.8MB/s eta 0:00:01\r\u001b[K     |█████████████████████████████▍  | 1.0MB 2.8MB/s eta 0:00:01\r\u001b[K     |█████████████████████████████▊  | 1.0MB 2.8MB/s eta 0:00:01\r\u001b[K     |██████████████████████████████  | 1.0MB 2.8MB/s eta 0:00:01\r\u001b[K     |██████████████████████████████▎ | 1.1MB 2.8MB/s eta 0:00:01\r\u001b[K     |██████████████████████████████▌ | 1.1MB 2.8MB/s eta 0:00:01\r\u001b[K     |██████████████████████████████▉ | 1.1MB 2.8MB/s eta 0:00:01\r\u001b[K     |███████████████████████████████▏| 1.1MB 2.8MB/s eta 0:00:01\r\u001b[K     |███████████████████████████████▍| 1.1MB 2.8MB/s eta 0:00:01\r\u001b[K     |███████████████████████████████▊| 1.1MB 2.8MB/s eta 0:00:01\r\u001b[K     |████████████████████████████████| 1.1MB 2.8MB/s \n",
            "\u001b[?25hRequirement already satisfied: numpy in /usr/local/lib/python3.6/dist-packages (from implicit) (1.18.5)\n",
            "Requirement already satisfied: scipy>=0.16 in /usr/local/lib/python3.6/dist-packages (from implicit) (1.4.1)\n",
            "Requirement already satisfied: tqdm>=4.27 in /usr/local/lib/python3.6/dist-packages (from implicit) (4.41.1)\n",
            "Building wheels for collected packages: implicit\n",
            "  Building wheel for implicit (setup.py) ... \u001b[?25l\u001b[?25hdone\n",
            "  Created wheel for implicit: filename=implicit-0.4.2-cp36-cp36m-linux_x86_64.whl size=3420317 sha256=40607aa33241e35a7b63ee27163484f15919ed49aca24ac02fdc9130793b6821\n",
            "  Stored in directory: /root/.cache/pip/wheels/1b/48/b1/1aebe3acc3afb5589e72d3e7c3ffc3f637dc4721c1a974dff7\n",
            "Successfully built implicit\n",
            "Installing collected packages: implicit\n",
            "Successfully installed implicit-0.4.2\n"
          ],
          "name": "stdout"
        }
      ]
    },
    {
      "cell_type": "code",
      "metadata": {
        "id": "q1Dk6UfQIfQq",
        "colab_type": "code",
        "colab": {}
      },
      "source": [
        "import pandas as pd\n",
        "import numpy as np\n",
        "import matplotlib.pyplot as plt\n",
        "%matplotlib inline\n",
        "\n",
        "# Для работы с матрицами\n",
        "from scipy.sparse import csr_matrix, coo_matrix\n",
        "\n",
        "# Детерминированные алгоритмы\n",
        "from implicit.nearest_neighbours import ItemItemRecommender, CosineRecommender, TFIDFRecommender, BM25Recommender\n",
        "\n",
        "# Метрики\n",
        "from implicit.evaluation import train_test_split\n",
        "from implicit.evaluation import precision_at_k, mean_average_precision_at_k, AUC_at_k, ndcg_at_k\n",
        "\n"
      ],
      "execution_count": 25,
      "outputs": []
    },
    {
      "cell_type": "code",
      "metadata": {
        "id": "qMcbzfT7IfQw",
        "colab_type": "code",
        "colab": {
          "base_uri": "https://localhost:8080/",
          "height": 111
        },
        "outputId": "5c09a46d-7741-4a84-fa40-d47c7f437066"
      },
      "source": [
        "data = pd.read_csv('/content/retail_train.csv')\n",
        "data.head(2)"
      ],
      "execution_count": 75,
      "outputs": [
        {
          "output_type": "execute_result",
          "data": {
            "text/html": [
              "<div>\n",
              "<style scoped>\n",
              "    .dataframe tbody tr th:only-of-type {\n",
              "        vertical-align: middle;\n",
              "    }\n",
              "\n",
              "    .dataframe tbody tr th {\n",
              "        vertical-align: top;\n",
              "    }\n",
              "\n",
              "    .dataframe thead th {\n",
              "        text-align: right;\n",
              "    }\n",
              "</style>\n",
              "<table border=\"1\" class=\"dataframe\">\n",
              "  <thead>\n",
              "    <tr style=\"text-align: right;\">\n",
              "      <th></th>\n",
              "      <th>user_id</th>\n",
              "      <th>basket_id</th>\n",
              "      <th>day</th>\n",
              "      <th>item_id</th>\n",
              "      <th>quantity</th>\n",
              "      <th>sales_value</th>\n",
              "      <th>store_id</th>\n",
              "      <th>retail_disc</th>\n",
              "      <th>trans_time</th>\n",
              "      <th>week_no</th>\n",
              "      <th>coupon_disc</th>\n",
              "      <th>coupon_match_disc</th>\n",
              "    </tr>\n",
              "  </thead>\n",
              "  <tbody>\n",
              "    <tr>\n",
              "      <th>0</th>\n",
              "      <td>2375</td>\n",
              "      <td>26984851472</td>\n",
              "      <td>1</td>\n",
              "      <td>1004906</td>\n",
              "      <td>1</td>\n",
              "      <td>1.39</td>\n",
              "      <td>364</td>\n",
              "      <td>-0.6</td>\n",
              "      <td>1631</td>\n",
              "      <td>1</td>\n",
              "      <td>0.0</td>\n",
              "      <td>0.0</td>\n",
              "    </tr>\n",
              "    <tr>\n",
              "      <th>1</th>\n",
              "      <td>2375</td>\n",
              "      <td>26984851472</td>\n",
              "      <td>1</td>\n",
              "      <td>1033142</td>\n",
              "      <td>1</td>\n",
              "      <td>0.82</td>\n",
              "      <td>364</td>\n",
              "      <td>0.0</td>\n",
              "      <td>1631</td>\n",
              "      <td>1</td>\n",
              "      <td>0.0</td>\n",
              "      <td>0.0</td>\n",
              "    </tr>\n",
              "  </tbody>\n",
              "</table>\n",
              "</div>"
            ],
            "text/plain": [
              "   user_id    basket_id  day  ...  week_no  coupon_disc  coupon_match_disc\n",
              "0     2375  26984851472    1  ...        1          0.0                0.0\n",
              "1     2375  26984851472    1  ...        1          0.0                0.0\n",
              "\n",
              "[2 rows x 12 columns]"
            ]
          },
          "metadata": {
            "tags": []
          },
          "execution_count": 75
        }
      ]
    },
    {
      "cell_type": "code",
      "metadata": {
        "id": "-nzL7mq7IfQ1",
        "colab_type": "code",
        "colab": {}
      },
      "source": [
        "test_size_weeks = 3\n",
        "\n",
        "data_train = data[data['week_no'] < data['week_no'].max() - test_size_weeks]\n",
        "data_test = data[data['week_no'] >= data['week_no'].max() - test_size_weeks]"
      ],
      "execution_count": 76,
      "outputs": []
    },
    {
      "cell_type": "markdown",
      "metadata": {
        "id": "pC8-9PeKIfQ4",
        "colab_type": "text"
      },
      "source": [
        "### Задание 1. Weighted Random Recommendation\n",
        "\n",
        "Напишите код для случайных рекоммендаций, в которых вероятность рекомендовать товар прямо пропорциональна логарифму продаж\n",
        "- Можно сэмплировать товары случайно, но пропорционально какому-либо весу\n",
        "- Например, прямопропорционально популярности. Вес = log(sales_sum товара)"
      ]
    },
    {
      "cell_type": "code",
      "metadata": {
        "id": "zQ0fpursIfQ5",
        "colab_type": "code",
        "colab": {}
      },
      "source": [
        "import random\n",
        "def weighted_random_recommendation(items_weights, n=5):\n",
        "    \"\"\"Случайные рекоммендации\n",
        "    \n",
        "    Input\n",
        "    -----\n",
        "    items_weights: pd.DataFrame\n",
        "        Датафрейм со столбцами item_id, weight. Сумма weight по всем товарам = 1\n",
        "    \"\"\"\n",
        "    \n",
        "    # Подсказка: необходимо модифицировать функцию random_recommendation()\n",
        "    # your_code\n",
        "    \n",
        "    recs = random.choices(items_weights['item_id'], weights=items_weights['weight'], k=n)\n",
        "\n",
        "    # return recs.tolist()\n",
        "    return recs"
      ],
      "execution_count": 77,
      "outputs": []
    },
    {
      "cell_type": "code",
      "metadata": {
        "id": "P20bb4WgIfQ8",
        "colab_type": "code",
        "colab": {
          "base_uri": "https://localhost:8080/",
          "height": 51
        },
        "outputId": "37478f8a-b158-4c97-e70c-175085ca6748"
      },
      "source": [
        "%%time\n",
        "\n",
        "# your_code\n",
        "\n",
        "popularity = data_train.groupby('item_id')['sales_value'].sum().reset_index()\n",
        "popularity = popularity.rename(columns={\"sales_value\": \"weight\"})\n",
        "\n",
        "popularity['weight'] = popularity['weight'].apply(lambda x: np.log(x + 1e-7))\n",
        "\n",
        "mn = popularity['weight'].min()\n",
        "mm =  popularity['weight'].max() - mn\n",
        "popularity['weight'] = popularity['weight'].apply(lambda x: ((x - mn) / mm) ) \n",
        "\n",
        "\n",
        "result['weighted_random_recommendation'] = result['user_id'].apply(lambda x: weighted_random_recommendation(popularity, n=5))\n"
      ],
      "execution_count": 112,
      "outputs": [
        {
          "output_type": "stream",
          "text": [
            "CPU times: user 18.6 s, sys: 79.8 ms, total: 18.7 s\n",
            "Wall time: 18.7 s\n"
          ],
          "name": "stdout"
        }
      ]
    },
    {
      "cell_type": "code",
      "metadata": {
        "id": "-o-XwGKmkTB3",
        "colab_type": "code",
        "colab": {
          "base_uri": "https://localhost:8080/",
          "height": 34
        },
        "outputId": "5faa2ade-8a56-4242-ff27-f35a6ce45e64"
      },
      "source": [
        "popularity['weight'].max(),popularity['weight'].min()"
      ],
      "execution_count": 113,
      "outputs": [
        {
          "output_type": "execute_result",
          "data": {
            "text/plain": [
              "(1.0, 0.0)"
            ]
          },
          "metadata": {
            "tags": []
          },
          "execution_count": 113
        }
      ]
    },
    {
      "cell_type": "code",
      "metadata": {
        "id": "1etJ8pCvhbqF",
        "colab_type": "code",
        "colab": {
          "base_uri": "https://localhost:8080/",
          "height": 179
        },
        "outputId": "833862b8-3610-46cc-a38f-965f0294d28e"
      },
      "source": [
        "result.head(2)"
      ],
      "execution_count": 114,
      "outputs": [
        {
          "output_type": "execute_result",
          "data": {
            "text/html": [
              "<div>\n",
              "<style scoped>\n",
              "    .dataframe tbody tr th:only-of-type {\n",
              "        vertical-align: middle;\n",
              "    }\n",
              "\n",
              "    .dataframe tbody tr th {\n",
              "        vertical-align: top;\n",
              "    }\n",
              "\n",
              "    .dataframe thead th {\n",
              "        text-align: right;\n",
              "    }\n",
              "</style>\n",
              "<table border=\"1\" class=\"dataframe\">\n",
              "  <thead>\n",
              "    <tr style=\"text-align: right;\">\n",
              "      <th></th>\n",
              "      <th>user_id</th>\n",
              "      <th>actual</th>\n",
              "      <th>random_recommendation</th>\n",
              "      <th>popular_recommendation</th>\n",
              "      <th>itemitem</th>\n",
              "      <th>cosine</th>\n",
              "      <th>tfidf</th>\n",
              "      <th>own_purchases</th>\n",
              "      <th>weighted_random_recommendation</th>\n",
              "    </tr>\n",
              "  </thead>\n",
              "  <tbody>\n",
              "    <tr>\n",
              "      <th>0</th>\n",
              "      <td>1</td>\n",
              "      <td>[  821867   834484   856942   865456   889248 ...</td>\n",
              "      <td>[5586238, 1015228, 866118, 2416733, 2603573]</td>\n",
              "      <td>[6534178, 6533889, 1029743, 6534166, 1082185]</td>\n",
              "      <td>[981760, 1127831, 1098066, 826249, 878996]</td>\n",
              "      <td>[981760, 1127831, 1098066, 878996, 826249]</td>\n",
              "      <td>[981760, 1127831, 1098066, 826249, 878996]</td>\n",
              "      <td>[999999, 1082185, 1029743, 995785, 1004906]</td>\n",
              "      <td>[6442809, 953599, 1000736, 1005614, 7440979]</td>\n",
              "    </tr>\n",
              "    <tr>\n",
              "      <th>1</th>\n",
              "      <td>3</td>\n",
              "      <td>[  835476   851057   872021   878302   879948 ...</td>\n",
              "      <td>[161354, 63027, 1027802, 12263694, 307395]</td>\n",
              "      <td>[6534178, 6533889, 1029743, 6534166, 1082185]</td>\n",
              "      <td>[981760, 995242, 1029743, 840361, 961554]</td>\n",
              "      <td>[981760, 1004906, 961554, 1096036, 1080414]</td>\n",
              "      <td>[981760, 1004906, 859075, 1096036, 961554]</td>\n",
              "      <td>[999999, 1082185, 1098066, 6534178, 1127831]</td>\n",
              "      <td>[7168821, 9878849, 9219945, 1029902, 997025]</td>\n",
              "    </tr>\n",
              "  </tbody>\n",
              "</table>\n",
              "</div>"
            ],
            "text/plain": [
              "   user_id  ...                weighted_random_recommendation\n",
              "0        1  ...  [6442809, 953599, 1000736, 1005614, 7440979]\n",
              "1        3  ...  [7168821, 9878849, 9219945, 1029902, 997025]\n",
              "\n",
              "[2 rows x 9 columns]"
            ]
          },
          "metadata": {
            "tags": []
          },
          "execution_count": 114
        }
      ]
    },
    {
      "cell_type": "markdown",
      "metadata": {
        "id": "RRfE-NAkIfQ_",
        "colab_type": "text"
      },
      "source": [
        "### Задание 2. Расчет метрик\n",
        "Рассчитайте Precision@5 для каждого алгоритма с помощью функции из вебинара 1. Какой алгоритм показывает лучшее качество?"
      ]
    },
    {
      "cell_type": "code",
      "metadata": {
        "id": "zX1NKd47IfRA",
        "colab_type": "code",
        "colab": {
          "base_uri": "https://localhost:8080/",
          "height": 145
        },
        "outputId": "37602f2f-1904-4003-9844-79fd28c3485a"
      },
      "source": [
        "result = pd.read_csv('/content/predictions_basic.csv')\n",
        "result.head(2)"
      ],
      "execution_count": 198,
      "outputs": [
        {
          "output_type": "execute_result",
          "data": {
            "text/html": [
              "<div>\n",
              "<style scoped>\n",
              "    .dataframe tbody tr th:only-of-type {\n",
              "        vertical-align: middle;\n",
              "    }\n",
              "\n",
              "    .dataframe tbody tr th {\n",
              "        vertical-align: top;\n",
              "    }\n",
              "\n",
              "    .dataframe thead th {\n",
              "        text-align: right;\n",
              "    }\n",
              "</style>\n",
              "<table border=\"1\" class=\"dataframe\">\n",
              "  <thead>\n",
              "    <tr style=\"text-align: right;\">\n",
              "      <th></th>\n",
              "      <th>user_id</th>\n",
              "      <th>actual</th>\n",
              "      <th>random_recommendation</th>\n",
              "      <th>popular_recommendation</th>\n",
              "      <th>itemitem</th>\n",
              "      <th>cosine</th>\n",
              "      <th>tfidf</th>\n",
              "      <th>own_purchases</th>\n",
              "    </tr>\n",
              "  </thead>\n",
              "  <tbody>\n",
              "    <tr>\n",
              "      <th>0</th>\n",
              "      <td>1</td>\n",
              "      <td>[  821867   834484   856942   865456   889248 ...</td>\n",
              "      <td>[5586238, 1015228, 866118, 2416733, 2603573]</td>\n",
              "      <td>[6534178, 6533889, 1029743, 6534166, 1082185]</td>\n",
              "      <td>[981760, 1127831, 1098066, 826249, 878996]</td>\n",
              "      <td>[981760, 1127831, 1098066, 878996, 826249]</td>\n",
              "      <td>[981760, 1127831, 1098066, 826249, 878996]</td>\n",
              "      <td>[999999, 1082185, 1029743, 995785, 1004906]</td>\n",
              "    </tr>\n",
              "    <tr>\n",
              "      <th>1</th>\n",
              "      <td>3</td>\n",
              "      <td>[  835476   851057   872021   878302   879948 ...</td>\n",
              "      <td>[161354, 63027, 1027802, 12263694, 307395]</td>\n",
              "      <td>[6534178, 6533889, 1029743, 6534166, 1082185]</td>\n",
              "      <td>[981760, 995242, 1029743, 840361, 961554]</td>\n",
              "      <td>[981760, 1004906, 961554, 1096036, 1080414]</td>\n",
              "      <td>[981760, 1004906, 859075, 1096036, 961554]</td>\n",
              "      <td>[999999, 1082185, 1098066, 6534178, 1127831]</td>\n",
              "    </tr>\n",
              "  </tbody>\n",
              "</table>\n",
              "</div>"
            ],
            "text/plain": [
              "   user_id  ...                                 own_purchases\n",
              "0        1  ...   [999999, 1082185, 1029743, 995785, 1004906]\n",
              "1        3  ...  [999999, 1082185, 1098066, 6534178, 1127831]\n",
              "\n",
              "[2 rows x 8 columns]"
            ]
          },
          "metadata": {
            "tags": []
          },
          "execution_count": 198
        }
      ]
    },
    {
      "cell_type": "code",
      "metadata": {
        "id": "rZZNOYGLIfRD",
        "colab_type": "code",
        "colab": {}
      },
      "source": [
        "# your_code\n",
        "\n",
        "%precision %.10f\n",
        "import ast\n",
        "\n",
        "def precision_at_k(data_, dest_name, k=5):    \n",
        "    s = 0\n",
        "    for index, row in data_.iterrows():     \n",
        "        actual_list = np.array(list( map(int, row['actual'][1:-1].split()) ))\n",
        "        rec_list = np.array(ast.literal_eval(row[dest_name]))[:k]      \n",
        "        flags = np.isin(actual_list, rec_list)      \n",
        "        s += flags.sum() / len(rec_list)            \n",
        "    return s/data_.shape[0]"
      ],
      "execution_count": 343,
      "outputs": []
    },
    {
      "cell_type": "code",
      "metadata": {
        "id": "HKTbe0SmKsMl",
        "colab_type": "code",
        "colab": {
          "base_uri": "https://localhost:8080/",
          "height": 34
        },
        "outputId": "9ce3cae6-7071-4f68-8046-9fbc993141ca"
      },
      "source": [
        "precision_at_k(result, 'random_recommendation')"
      ],
      "execution_count": 344,
      "outputs": [
        {
          "output_type": "execute_result",
          "data": {
            "text/plain": [
              "0.0005876592"
            ]
          },
          "metadata": {
            "tags": []
          },
          "execution_count": 344
        }
      ]
    },
    {
      "cell_type": "code",
      "metadata": {
        "id": "gNMBTqWSKxjm",
        "colab_type": "code",
        "colab": {
          "base_uri": "https://localhost:8080/",
          "height": 34
        },
        "outputId": "66e0aa9c-adf0-40b7-bc46-567100b75a58"
      },
      "source": [
        "precision_at_k(result, 'popular_recommendation')"
      ],
      "execution_count": 345,
      "outputs": [
        {
          "output_type": "execute_result",
          "data": {
            "text/plain": [
              "0.1552399608"
            ]
          },
          "metadata": {
            "tags": []
          },
          "execution_count": 345
        }
      ]
    },
    {
      "cell_type": "code",
      "metadata": {
        "id": "90IbgD-3K2am",
        "colab_type": "code",
        "colab": {
          "base_uri": "https://localhost:8080/",
          "height": 34
        },
        "outputId": "b4ed374f-70a8-4939-ecad-92dadc0dc403"
      },
      "source": [
        "precision_at_k(result, 'itemitem')"
      ],
      "execution_count": 346,
      "outputs": [
        {
          "output_type": "execute_result",
          "data": {
            "text/plain": [
              "0.0335945152"
            ]
          },
          "metadata": {
            "tags": []
          },
          "execution_count": 346
        }
      ]
    },
    {
      "cell_type": "code",
      "metadata": {
        "id": "dgQOfGFlK42t",
        "colab_type": "code",
        "colab": {
          "base_uri": "https://localhost:8080/",
          "height": 34
        },
        "outputId": "265b6789-a2db-4e78-a94c-d2ea4f3c4870"
      },
      "source": [
        "precision_at_k(result, 'cosine')"
      ],
      "execution_count": 347,
      "outputs": [
        {
          "output_type": "execute_result",
          "data": {
            "text/plain": [
              "0.0352595495"
            ]
          },
          "metadata": {
            "tags": []
          },
          "execution_count": 347
        }
      ]
    },
    {
      "cell_type": "code",
      "metadata": {
        "id": "OQWvBtSUK7ul",
        "colab_type": "code",
        "colab": {
          "base_uri": "https://localhost:8080/",
          "height": 34
        },
        "outputId": "d07fe665-48c0-4c28-855e-e597ad7f04e7"
      },
      "source": [
        "precision_at_k(result, 'tfidf')"
      ],
      "execution_count": 348,
      "outputs": [
        {
          "output_type": "execute_result",
          "data": {
            "text/plain": [
              "0.0361410382"
            ]
          },
          "metadata": {
            "tags": []
          },
          "execution_count": 348
        }
      ]
    },
    {
      "cell_type": "code",
      "metadata": {
        "id": "QiwRvLyrrM1v",
        "colab_type": "code",
        "colab": {
          "base_uri": "https://localhost:8080/",
          "height": 34
        },
        "outputId": "3fb962e3-bc07-4589-b87d-5d32df549186"
      },
      "source": [
        "precision_at_k(result, 'own_purchases')"
      ],
      "execution_count": 349,
      "outputs": [
        {
          "output_type": "execute_result",
          "data": {
            "text/plain": [
              "0.1799869409"
            ]
          },
          "metadata": {
            "tags": []
          },
          "execution_count": 349
        }
      ]
    },
    {
      "cell_type": "markdown",
      "metadata": {
        "id": "wZGf4BGKrK78",
        "colab_type": "text"
      },
      "source": [
        "popular_recommendation лучший"
      ]
    },
    {
      "cell_type": "markdown",
      "metadata": {
        "id": "8KpSi-h1IfRG",
        "colab_type": "text"
      },
      "source": [
        "### Задание 3*. Улучшение бейзлайнов и ItemItem\n",
        "\n",
        "- Попробуйте улучшить бейзлайны, считая их на топ-5000 товаров\n",
        "- Попробуйте улучшить разные варианты ItemItemRecommender, выбирая число соседей $K$."
      ]
    },
    {
      "cell_type": "code",
      "metadata": {
        "id": "l4OR_Y-AIfRH",
        "colab_type": "code",
        "colab": {}
      },
      "source": [
        "# your_code"
      ],
      "execution_count": null,
      "outputs": []
    },
    {
      "cell_type": "code",
      "metadata": {
        "id": "nIhz-RKbIfRK",
        "colab_type": "code",
        "colab": {}
      },
      "source": [
        ""
      ],
      "execution_count": null,
      "outputs": []
    }
  ]
}